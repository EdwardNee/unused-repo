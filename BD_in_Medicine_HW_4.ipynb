{
  "nbformat": 4,
  "nbformat_minor": 0,
  "metadata": {
    "colab": {
      "provenance": []
    },
    "kernelspec": {
      "name": "python3",
      "display_name": "Python 3"
    },
    "language_info": {
      "name": "python"
    }
  },
  "cells": [
    {
      "cell_type": "markdown",
      "source": [
        "# HW4"
      ],
      "metadata": {
        "id": "hSX3Hgfo9GmE"
      }
    },
    {
      "cell_type": "code",
      "source": [
        "!wget https://medicalanalytics.group/wp-content/uploads/2020/04/dataonly.zip"
      ],
      "metadata": {
        "colab": {
          "base_uri": "https://localhost:8080/"
        },
        "id": "ssPGnvdm9Hfz",
        "outputId": "4c3b7747-e8fd-4dd0-d591-b6a6c3d6402e"
      },
      "execution_count": null,
      "outputs": [
        {
          "output_type": "stream",
          "name": "stdout",
          "text": [
            "--2024-10-09 20:38:39--  https://medicalanalytics.group/wp-content/uploads/2020/04/dataonly.zip\n",
            "Resolving medicalanalytics.group (medicalanalytics.group)... 192.0.78.25, 192.0.78.24\n",
            "Connecting to medicalanalytics.group (medicalanalytics.group)|192.0.78.25|:443... connected.\n",
            "HTTP request sent, awaiting response... 200 OK\n",
            "Length: 53884239 (51M) [application/zip]\n",
            "Saving to: ‘dataonly.zip’\n",
            "\n",
            "dataonly.zip        100%[===================>]  51.39M  61.4MB/s    in 0.8s    \n",
            "\n",
            "2024-10-09 20:38:40 (61.4 MB/s) - ‘dataonly.zip’ saved [53884239/53884239]\n",
            "\n"
          ]
        }
      ]
    },
    {
      "cell_type": "code",
      "source": [
        "!unzip dataonly.zip -d dataonly"
      ],
      "metadata": {
        "colab": {
          "base_uri": "https://localhost:8080/"
        },
        "id": "INhmqwaz9I_D",
        "outputId": "aaea934d-7a11-4821-b7ff-194a7da463d3"
      },
      "execution_count": null,
      "outputs": [
        {
          "output_type": "stream",
          "name": "stdout",
          "text": [
            "Archive:  dataonly.zip\n",
            "  inflating: dataonly/DataOnly/WaitData.Published.xlsx  \n"
          ]
        }
      ]
    },
    {
      "cell_type": "code",
      "source": [
        "import pandas as pd"
      ],
      "metadata": {
        "id": "7JLb0ui9A7Da"
      },
      "execution_count": null,
      "outputs": []
    },
    {
      "cell_type": "code",
      "source": [
        "FILEPATH = \"./dataonly/DataOnly/WaitData.Published.xlsx\"\n",
        "os.path.isfile(FILEPATH)"
      ],
      "metadata": {
        "colab": {
          "base_uri": "https://localhost:8080/"
        },
        "id": "O33o0Ssa9JB3",
        "outputId": "f3d235f0-e394-488f-c10f-bb0dbe8083aa"
      },
      "execution_count": null,
      "outputs": [
        {
          "output_type": "execute_result",
          "data": {
            "text/plain": [
              "True"
            ]
          },
          "metadata": {},
          "execution_count": 7
        }
      ]
    },
    {
      "cell_type": "code",
      "source": [
        "df = pd.read_excel(FILEPATH, sheet_name='F3')"
      ],
      "metadata": {
        "id": "S4hiy2c8Awex"
      },
      "execution_count": null,
      "outputs": []
    },
    {
      "cell_type": "code",
      "source": [
        "df = df.drop(columns=[col for col in df.columns if col.startswith('x_')])"
      ],
      "metadata": {
        "id": "PuFz9Mo-Fcuz"
      },
      "execution_count": null,
      "outputs": []
    },
    {
      "cell_type": "code",
      "source": [
        "df.head()"
      ],
      "metadata": {
        "colab": {
          "base_uri": "https://localhost:8080/",
          "height": 255
        },
        "id": "uUTpC88AA91V",
        "outputId": "2b2f0289-28c9-4dc2-c935-3f2a65a895ed"
      },
      "execution_count": null,
      "outputs": [
        {
          "output_type": "execute_result",
          "data": {
            "text/plain": [
              "   Wait  SumHowEarlyWaiting  AvgHowEarlyWaiting  LineCount0Strict  SumWaits  \\\n",
              "0     0                 372                  62                 6       249   \n",
              "1    -3                 335                  67                 3       195   \n",
              "2   -25                 274                  68                 4       150   \n",
              "3    36                 369                  73                 2       179   \n",
              "4   -21                 438                  73                 5       192   \n",
              "\n",
              "   LineCount0  LineCount1  LineCount2  LineCount3  LineCount4  ...  \\\n",
              "0           6           5           6           6           4  ...   \n",
              "1           5           4           6           6           5  ...   \n",
              "2           4           5           6           4           6  ...   \n",
              "3           5           6           4           5           5  ...   \n",
              "4           6           5           5           6           5  ...   \n",
              "\n",
              "   NumAddOnsToday  NumAddOnsLastW2  NumScheduledNextSlot  NumScheduledNextW2  \\\n",
              "0               4                2                     0                   0   \n",
              "1               4                1                     2                   0   \n",
              "2               4                1                     1                   1   \n",
              "3               3                1                     2                   1   \n",
              "4               3                0                     2                   1   \n",
              "\n",
              "   SumTimeToCompleteNextSlot  SumTimeToCompleteNextW2  \\\n",
              "0                          0                        0   \n",
              "1                         32                        0   \n",
              "2                         13                       16   \n",
              "3                         45                       16   \n",
              "4                         32                       15   \n",
              "\n",
              "   WithContrastCountWaiting  WithAndWithoutContrastCountWaiting  \\\n",
              "0                         3                                   1   \n",
              "1                         2                                   1   \n",
              "2                         1                                   1   \n",
              "3                         3                                   1   \n",
              "4                         4                                   0   \n",
              "\n",
              "   WithContrastCountInProgress  WithAndWithoutContrastCountInProgress  \n",
              "0                            1                                      0  \n",
              "1                            2                                      0  \n",
              "2                            3                                      0  \n",
              "3                            1                                      0  \n",
              "4                            0                                      1  \n",
              "\n",
              "[5 rows x 86 columns]"
            ],
            "text/html": [
              "\n",
              "  <div id=\"df-0932648e-165c-494f-9be5-37aa4aeaea78\" class=\"colab-df-container\">\n",
              "    <div>\n",
              "<style scoped>\n",
              "    .dataframe tbody tr th:only-of-type {\n",
              "        vertical-align: middle;\n",
              "    }\n",
              "\n",
              "    .dataframe tbody tr th {\n",
              "        vertical-align: top;\n",
              "    }\n",
              "\n",
              "    .dataframe thead th {\n",
              "        text-align: right;\n",
              "    }\n",
              "</style>\n",
              "<table border=\"1\" class=\"dataframe\">\n",
              "  <thead>\n",
              "    <tr style=\"text-align: right;\">\n",
              "      <th></th>\n",
              "      <th>Wait</th>\n",
              "      <th>SumHowEarlyWaiting</th>\n",
              "      <th>AvgHowEarlyWaiting</th>\n",
              "      <th>LineCount0Strict</th>\n",
              "      <th>SumWaits</th>\n",
              "      <th>LineCount0</th>\n",
              "      <th>LineCount1</th>\n",
              "      <th>LineCount2</th>\n",
              "      <th>LineCount3</th>\n",
              "      <th>LineCount4</th>\n",
              "      <th>...</th>\n",
              "      <th>NumAddOnsToday</th>\n",
              "      <th>NumAddOnsLastW2</th>\n",
              "      <th>NumScheduledNextSlot</th>\n",
              "      <th>NumScheduledNextW2</th>\n",
              "      <th>SumTimeToCompleteNextSlot</th>\n",
              "      <th>SumTimeToCompleteNextW2</th>\n",
              "      <th>WithContrastCountWaiting</th>\n",
              "      <th>WithAndWithoutContrastCountWaiting</th>\n",
              "      <th>WithContrastCountInProgress</th>\n",
              "      <th>WithAndWithoutContrastCountInProgress</th>\n",
              "    </tr>\n",
              "  </thead>\n",
              "  <tbody>\n",
              "    <tr>\n",
              "      <th>0</th>\n",
              "      <td>0</td>\n",
              "      <td>372</td>\n",
              "      <td>62</td>\n",
              "      <td>6</td>\n",
              "      <td>249</td>\n",
              "      <td>6</td>\n",
              "      <td>5</td>\n",
              "      <td>6</td>\n",
              "      <td>6</td>\n",
              "      <td>4</td>\n",
              "      <td>...</td>\n",
              "      <td>4</td>\n",
              "      <td>2</td>\n",
              "      <td>0</td>\n",
              "      <td>0</td>\n",
              "      <td>0</td>\n",
              "      <td>0</td>\n",
              "      <td>3</td>\n",
              "      <td>1</td>\n",
              "      <td>1</td>\n",
              "      <td>0</td>\n",
              "    </tr>\n",
              "    <tr>\n",
              "      <th>1</th>\n",
              "      <td>-3</td>\n",
              "      <td>335</td>\n",
              "      <td>67</td>\n",
              "      <td>3</td>\n",
              "      <td>195</td>\n",
              "      <td>5</td>\n",
              "      <td>4</td>\n",
              "      <td>6</td>\n",
              "      <td>6</td>\n",
              "      <td>5</td>\n",
              "      <td>...</td>\n",
              "      <td>4</td>\n",
              "      <td>1</td>\n",
              "      <td>2</td>\n",
              "      <td>0</td>\n",
              "      <td>32</td>\n",
              "      <td>0</td>\n",
              "      <td>2</td>\n",
              "      <td>1</td>\n",
              "      <td>2</td>\n",
              "      <td>0</td>\n",
              "    </tr>\n",
              "    <tr>\n",
              "      <th>2</th>\n",
              "      <td>-25</td>\n",
              "      <td>274</td>\n",
              "      <td>68</td>\n",
              "      <td>4</td>\n",
              "      <td>150</td>\n",
              "      <td>4</td>\n",
              "      <td>5</td>\n",
              "      <td>6</td>\n",
              "      <td>4</td>\n",
              "      <td>6</td>\n",
              "      <td>...</td>\n",
              "      <td>4</td>\n",
              "      <td>1</td>\n",
              "      <td>1</td>\n",
              "      <td>1</td>\n",
              "      <td>13</td>\n",
              "      <td>16</td>\n",
              "      <td>1</td>\n",
              "      <td>1</td>\n",
              "      <td>3</td>\n",
              "      <td>0</td>\n",
              "    </tr>\n",
              "    <tr>\n",
              "      <th>3</th>\n",
              "      <td>36</td>\n",
              "      <td>369</td>\n",
              "      <td>73</td>\n",
              "      <td>2</td>\n",
              "      <td>179</td>\n",
              "      <td>5</td>\n",
              "      <td>6</td>\n",
              "      <td>4</td>\n",
              "      <td>5</td>\n",
              "      <td>5</td>\n",
              "      <td>...</td>\n",
              "      <td>3</td>\n",
              "      <td>1</td>\n",
              "      <td>2</td>\n",
              "      <td>1</td>\n",
              "      <td>45</td>\n",
              "      <td>16</td>\n",
              "      <td>3</td>\n",
              "      <td>1</td>\n",
              "      <td>1</td>\n",
              "      <td>0</td>\n",
              "    </tr>\n",
              "    <tr>\n",
              "      <th>4</th>\n",
              "      <td>-21</td>\n",
              "      <td>438</td>\n",
              "      <td>73</td>\n",
              "      <td>5</td>\n",
              "      <td>192</td>\n",
              "      <td>6</td>\n",
              "      <td>5</td>\n",
              "      <td>5</td>\n",
              "      <td>6</td>\n",
              "      <td>5</td>\n",
              "      <td>...</td>\n",
              "      <td>3</td>\n",
              "      <td>0</td>\n",
              "      <td>2</td>\n",
              "      <td>1</td>\n",
              "      <td>32</td>\n",
              "      <td>15</td>\n",
              "      <td>4</td>\n",
              "      <td>0</td>\n",
              "      <td>0</td>\n",
              "      <td>1</td>\n",
              "    </tr>\n",
              "  </tbody>\n",
              "</table>\n",
              "<p>5 rows × 86 columns</p>\n",
              "</div>\n",
              "    <div class=\"colab-df-buttons\">\n",
              "\n",
              "  <div class=\"colab-df-container\">\n",
              "    <button class=\"colab-df-convert\" onclick=\"convertToInteractive('df-0932648e-165c-494f-9be5-37aa4aeaea78')\"\n",
              "            title=\"Convert this dataframe to an interactive table.\"\n",
              "            style=\"display:none;\">\n",
              "\n",
              "  <svg xmlns=\"http://www.w3.org/2000/svg\" height=\"24px\" viewBox=\"0 -960 960 960\">\n",
              "    <path d=\"M120-120v-720h720v720H120Zm60-500h600v-160H180v160Zm220 220h160v-160H400v160Zm0 220h160v-160H400v160ZM180-400h160v-160H180v160Zm440 0h160v-160H620v160ZM180-180h160v-160H180v160Zm440 0h160v-160H620v160Z\"/>\n",
              "  </svg>\n",
              "    </button>\n",
              "\n",
              "  <style>\n",
              "    .colab-df-container {\n",
              "      display:flex;\n",
              "      gap: 12px;\n",
              "    }\n",
              "\n",
              "    .colab-df-convert {\n",
              "      background-color: #E8F0FE;\n",
              "      border: none;\n",
              "      border-radius: 50%;\n",
              "      cursor: pointer;\n",
              "      display: none;\n",
              "      fill: #1967D2;\n",
              "      height: 32px;\n",
              "      padding: 0 0 0 0;\n",
              "      width: 32px;\n",
              "    }\n",
              "\n",
              "    .colab-df-convert:hover {\n",
              "      background-color: #E2EBFA;\n",
              "      box-shadow: 0px 1px 2px rgba(60, 64, 67, 0.3), 0px 1px 3px 1px rgba(60, 64, 67, 0.15);\n",
              "      fill: #174EA6;\n",
              "    }\n",
              "\n",
              "    .colab-df-buttons div {\n",
              "      margin-bottom: 4px;\n",
              "    }\n",
              "\n",
              "    [theme=dark] .colab-df-convert {\n",
              "      background-color: #3B4455;\n",
              "      fill: #D2E3FC;\n",
              "    }\n",
              "\n",
              "    [theme=dark] .colab-df-convert:hover {\n",
              "      background-color: #434B5C;\n",
              "      box-shadow: 0px 1px 3px 1px rgba(0, 0, 0, 0.15);\n",
              "      filter: drop-shadow(0px 1px 2px rgba(0, 0, 0, 0.3));\n",
              "      fill: #FFFFFF;\n",
              "    }\n",
              "  </style>\n",
              "\n",
              "    <script>\n",
              "      const buttonEl =\n",
              "        document.querySelector('#df-0932648e-165c-494f-9be5-37aa4aeaea78 button.colab-df-convert');\n",
              "      buttonEl.style.display =\n",
              "        google.colab.kernel.accessAllowed ? 'block' : 'none';\n",
              "\n",
              "      async function convertToInteractive(key) {\n",
              "        const element = document.querySelector('#df-0932648e-165c-494f-9be5-37aa4aeaea78');\n",
              "        const dataTable =\n",
              "          await google.colab.kernel.invokeFunction('convertToInteractive',\n",
              "                                                    [key], {});\n",
              "        if (!dataTable) return;\n",
              "\n",
              "        const docLinkHtml = 'Like what you see? Visit the ' +\n",
              "          '<a target=\"_blank\" href=https://colab.research.google.com/notebooks/data_table.ipynb>data table notebook</a>'\n",
              "          + ' to learn more about interactive tables.';\n",
              "        element.innerHTML = '';\n",
              "        dataTable['output_type'] = 'display_data';\n",
              "        await google.colab.output.renderOutput(dataTable, element);\n",
              "        const docLink = document.createElement('div');\n",
              "        docLink.innerHTML = docLinkHtml;\n",
              "        element.appendChild(docLink);\n",
              "      }\n",
              "    </script>\n",
              "  </div>\n",
              "\n",
              "\n",
              "<div id=\"df-8a0479d9-7f62-4924-8d98-c11b9ce632a2\">\n",
              "  <button class=\"colab-df-quickchart\" onclick=\"quickchart('df-8a0479d9-7f62-4924-8d98-c11b9ce632a2')\"\n",
              "            title=\"Suggest charts\"\n",
              "            style=\"display:none;\">\n",
              "\n",
              "<svg xmlns=\"http://www.w3.org/2000/svg\" height=\"24px\"viewBox=\"0 0 24 24\"\n",
              "     width=\"24px\">\n",
              "    <g>\n",
              "        <path d=\"M19 3H5c-1.1 0-2 .9-2 2v14c0 1.1.9 2 2 2h14c1.1 0 2-.9 2-2V5c0-1.1-.9-2-2-2zM9 17H7v-7h2v7zm4 0h-2V7h2v10zm4 0h-2v-4h2v4z\"/>\n",
              "    </g>\n",
              "</svg>\n",
              "  </button>\n",
              "\n",
              "<style>\n",
              "  .colab-df-quickchart {\n",
              "      --bg-color: #E8F0FE;\n",
              "      --fill-color: #1967D2;\n",
              "      --hover-bg-color: #E2EBFA;\n",
              "      --hover-fill-color: #174EA6;\n",
              "      --disabled-fill-color: #AAA;\n",
              "      --disabled-bg-color: #DDD;\n",
              "  }\n",
              "\n",
              "  [theme=dark] .colab-df-quickchart {\n",
              "      --bg-color: #3B4455;\n",
              "      --fill-color: #D2E3FC;\n",
              "      --hover-bg-color: #434B5C;\n",
              "      --hover-fill-color: #FFFFFF;\n",
              "      --disabled-bg-color: #3B4455;\n",
              "      --disabled-fill-color: #666;\n",
              "  }\n",
              "\n",
              "  .colab-df-quickchart {\n",
              "    background-color: var(--bg-color);\n",
              "    border: none;\n",
              "    border-radius: 50%;\n",
              "    cursor: pointer;\n",
              "    display: none;\n",
              "    fill: var(--fill-color);\n",
              "    height: 32px;\n",
              "    padding: 0;\n",
              "    width: 32px;\n",
              "  }\n",
              "\n",
              "  .colab-df-quickchart:hover {\n",
              "    background-color: var(--hover-bg-color);\n",
              "    box-shadow: 0 1px 2px rgba(60, 64, 67, 0.3), 0 1px 3px 1px rgba(60, 64, 67, 0.15);\n",
              "    fill: var(--button-hover-fill-color);\n",
              "  }\n",
              "\n",
              "  .colab-df-quickchart-complete:disabled,\n",
              "  .colab-df-quickchart-complete:disabled:hover {\n",
              "    background-color: var(--disabled-bg-color);\n",
              "    fill: var(--disabled-fill-color);\n",
              "    box-shadow: none;\n",
              "  }\n",
              "\n",
              "  .colab-df-spinner {\n",
              "    border: 2px solid var(--fill-color);\n",
              "    border-color: transparent;\n",
              "    border-bottom-color: var(--fill-color);\n",
              "    animation:\n",
              "      spin 1s steps(1) infinite;\n",
              "  }\n",
              "\n",
              "  @keyframes spin {\n",
              "    0% {\n",
              "      border-color: transparent;\n",
              "      border-bottom-color: var(--fill-color);\n",
              "      border-left-color: var(--fill-color);\n",
              "    }\n",
              "    20% {\n",
              "      border-color: transparent;\n",
              "      border-left-color: var(--fill-color);\n",
              "      border-top-color: var(--fill-color);\n",
              "    }\n",
              "    30% {\n",
              "      border-color: transparent;\n",
              "      border-left-color: var(--fill-color);\n",
              "      border-top-color: var(--fill-color);\n",
              "      border-right-color: var(--fill-color);\n",
              "    }\n",
              "    40% {\n",
              "      border-color: transparent;\n",
              "      border-right-color: var(--fill-color);\n",
              "      border-top-color: var(--fill-color);\n",
              "    }\n",
              "    60% {\n",
              "      border-color: transparent;\n",
              "      border-right-color: var(--fill-color);\n",
              "    }\n",
              "    80% {\n",
              "      border-color: transparent;\n",
              "      border-right-color: var(--fill-color);\n",
              "      border-bottom-color: var(--fill-color);\n",
              "    }\n",
              "    90% {\n",
              "      border-color: transparent;\n",
              "      border-bottom-color: var(--fill-color);\n",
              "    }\n",
              "  }\n",
              "</style>\n",
              "\n",
              "  <script>\n",
              "    async function quickchart(key) {\n",
              "      const quickchartButtonEl =\n",
              "        document.querySelector('#' + key + ' button');\n",
              "      quickchartButtonEl.disabled = true;  // To prevent multiple clicks.\n",
              "      quickchartButtonEl.classList.add('colab-df-spinner');\n",
              "      try {\n",
              "        const charts = await google.colab.kernel.invokeFunction(\n",
              "            'suggestCharts', [key], {});\n",
              "      } catch (error) {\n",
              "        console.error('Error during call to suggestCharts:', error);\n",
              "      }\n",
              "      quickchartButtonEl.classList.remove('colab-df-spinner');\n",
              "      quickchartButtonEl.classList.add('colab-df-quickchart-complete');\n",
              "    }\n",
              "    (() => {\n",
              "      let quickchartButtonEl =\n",
              "        document.querySelector('#df-8a0479d9-7f62-4924-8d98-c11b9ce632a2 button');\n",
              "      quickchartButtonEl.style.display =\n",
              "        google.colab.kernel.accessAllowed ? 'block' : 'none';\n",
              "    })();\n",
              "  </script>\n",
              "</div>\n",
              "\n",
              "    </div>\n",
              "  </div>\n"
            ],
            "application/vnd.google.colaboratory.intrinsic+json": {
              "type": "dataframe",
              "variable_name": "df"
            }
          },
          "metadata": {},
          "execution_count": 19
        }
      ]
    },
    {
      "cell_type": "code",
      "source": [
        "X, Y = df.drop(columns=['Wait']), df.Wait"
      ],
      "metadata": {
        "id": "MN3VHpT6FVrK"
      },
      "execution_count": null,
      "outputs": []
    },
    {
      "cell_type": "code",
      "source": [
        "from sklearn import linear_model\n",
        "model = linear_model.LinearRegression()\n",
        "model.fit(X, Y)\n",
        "Ypred = model.predict(X) # use trained regression model to predict\n",
        "r = Y-Ypred # compute prediatin error (residual)\n",
        "e=abs(r).mean() # compute model error"
      ],
      "metadata": {
        "id": "Pa8P0Jhb9JEe"
      },
      "execution_count": null,
      "outputs": []
    },
    {
      "cell_type": "code",
      "source": [
        "e"
      ],
      "metadata": {
        "colab": {
          "base_uri": "https://localhost:8080/"
        },
        "id": "u3OtldjC9JHO",
        "outputId": "34acb4b5-43f6-41a8-aa4b-52eb959e6616"
      },
      "execution_count": null,
      "outputs": [
        {
          "output_type": "execute_result",
          "data": {
            "text/plain": [
              "23.16628893634719"
            ]
          },
          "metadata": {},
          "execution_count": 29
        }
      ]
    },
    {
      "cell_type": "code",
      "source": [
        "abs(r).median()"
      ],
      "metadata": {
        "colab": {
          "base_uri": "https://localhost:8080/"
        },
        "id": "XZtfaXNe9JJ2",
        "outputId": "28e99b34-8484-45d9-e12e-4fc25776cee9"
      },
      "execution_count": null,
      "outputs": [
        {
          "output_type": "execute_result",
          "data": {
            "text/plain": [
              "19.126063446073886"
            ]
          },
          "metadata": {},
          "execution_count": 30
        }
      ]
    },
    {
      "cell_type": "code",
      "source": [
        "# Run Python feature selection\n",
        "if True: # just in case I want to disable this part\n",
        "    print('\\n>Python feature selection:')\n",
        "    from sklearn.feature_selection import RFE\n",
        "    from itertools import compress\n",
        "    for nFeatures in range(1,4):\n",
        "        rfe = RFE(model, n_features_to_select=nFeatures)\n",
        "        X_rfe = rfe.fit_transform(X,Y) #transforming data using RFE\n",
        "        #Fitting the data to model\n",
        "        model.fit(X_rfe,Y)\n",
        "        #print(rfe.support_)\n",
        "        #print(rfe.ranking_)\n",
        "        cols = list(compress( X.columns, rfe.support_))\n",
        "        model.fit(X[cols],Y)\n",
        "        e = abs(Y-model.predict(X[cols])).mean()\n",
        "        print(e, cols)"
      ],
      "metadata": {
        "colab": {
          "base_uri": "https://localhost:8080/"
        },
        "id": "44cO0W_bGMTV",
        "outputId": "0af26f5c-45a9-4ae3-80f0-ec2df28a5158"
      },
      "execution_count": null,
      "outputs": [
        {
          "output_type": "stream",
          "name": "stdout",
          "text": [
            "\n",
            ">Python feature selection:\n",
            "32.50541172120655 ['CardiacCount']\n",
            "31.22493770698274 ['CardiacCount', 'DelayedInLine']\n",
            "31.25752894868932 ['CardiacCount', 'StartTime', 'DelayedInLine']\n"
          ]
        }
      ]
    },
    {
      "cell_type": "code",
      "source": [
        "X.columns.shape[0]"
      ],
      "metadata": {
        "colab": {
          "base_uri": "https://localhost:8080/"
        },
        "id": "fN9iXF9WHB1-",
        "outputId": "b85e6943-897b-469d-c1e4-8c93eb88d083"
      },
      "execution_count": null,
      "outputs": [
        {
          "output_type": "execute_result",
          "data": {
            "text/plain": [
              "85"
            ]
          },
          "metadata": {},
          "execution_count": 34
        }
      ]
    },
    {
      "cell_type": "code",
      "source": [
        "best_feature = None\n",
        "min_error = float('inf')\n",
        "\n",
        "for feature in X.columns:\n",
        "    model.fit(X[[feature]], Y)\n",
        "    e = abs(Y - model.predict(X[[feature]])).mean()\n",
        "\n",
        "    if e < min_error:\n",
        "        min_error = e\n",
        "        best_feature = feature\n",
        "\n",
        "min_error, best_feature"
      ],
      "metadata": {
        "colab": {
          "base_uri": "https://localhost:8080/"
        },
        "id": "LDbGJQouG13c",
        "outputId": "d3201b3e-349d-4d50-a7aa-133633bb76dd"
      },
      "execution_count": null,
      "outputs": [
        {
          "output_type": "execute_result",
          "data": {
            "text/plain": [
              "(31.227057699733514, 'DelayedInLine')"
            ]
          },
          "metadata": {},
          "execution_count": 40
        }
      ]
    },
    {
      "cell_type": "code",
      "source": [
        "best_features = list()\n",
        "min_errors = list()\n",
        "\n",
        "for i in range(3):\n",
        "    current_best = None\n",
        "    current_error = float('inf')\n",
        "    for feature in X.columns:\n",
        "        if feature not in best_features:\n",
        "            _features = best_features + [feature]\n",
        "            model.fit(X[_features], Y)\n",
        "            e = abs(Y - model.predict(X[_features])).mean()\n",
        "\n",
        "            if e < current_error:\n",
        "                current_error = e\n",
        "                current_best = feature\n",
        "\n",
        "    best_features.append(current_best)\n",
        "    min_errors.append(current_error)\n",
        "\n",
        "min_errors, best_features"
      ],
      "metadata": {
        "colab": {
          "base_uri": "https://localhost:8080/"
        },
        "id": "dsXyKx1cH8zw",
        "outputId": "bbc57a62-69e8-49e4-e837-d174ba587686"
      },
      "execution_count": null,
      "outputs": [
        {
          "output_type": "execute_result",
          "data": {
            "text/plain": [
              "([31.227057699733514, 30.137965863467567, 28.696490632253404],\n",
              " ['DelayedInLine', 'LineCount0Strict', 'LineCount0'])"
            ]
          },
          "metadata": {},
          "execution_count": 45
        }
      ]
    },
    {
      "cell_type": "code",
      "source": [
        "best_features = list()\n",
        "min_errors = list()\n",
        "\n",
        "for i in range(15):\n",
        "    current_best = None\n",
        "    current_error = float('inf')\n",
        "    for feature in X.columns:\n",
        "        if feature not in best_features:\n",
        "            _features = best_features + [feature]\n",
        "            model.fit(X[_features], Y)\n",
        "            e = abs(Y - model.predict(X[_features])).mean()\n",
        "\n",
        "            if e < current_error:\n",
        "                current_error = e\n",
        "                current_best = feature\n",
        "\n",
        "    best_features.append(current_best)\n",
        "    min_errors.append(current_error)\n",
        "\n",
        "min_errors, best_features"
      ],
      "metadata": {
        "colab": {
          "base_uri": "https://localhost:8080/"
        },
        "id": "rfXrzST9I2Vp",
        "outputId": "ef7d44a6-2026-4c18-bfc8-077afec030ed"
      },
      "execution_count": null,
      "outputs": [
        {
          "output_type": "execute_result",
          "data": {
            "text/plain": [
              "([31.227057699733514,\n",
              "  30.137965863467567,\n",
              "  28.696490632253404,\n",
              "  28.246309585132344,\n",
              "  28.147006842164537,\n",
              "  24.989574734774788,\n",
              "  24.65918640725134,\n",
              "  24.329071006187295,\n",
              "  24.071936786758204,\n",
              "  23.846509492065334,\n",
              "  23.69261939854711,\n",
              "  23.627914296582187,\n",
              "  23.57915967047997,\n",
              "  23.548081793881497,\n",
              "  23.520963512553436],\n",
              " ['DelayedInLine',\n",
              "  'LineCount0Strict',\n",
              "  'LineCount0',\n",
              "  'SumDelayWaitingInLine',\n",
              "  'AheadCount',\n",
              "  'NumCompletedToday',\n",
              "  'NumScheduledNextW2',\n",
              "  'DelayCount',\n",
              "  'InProgressSize',\n",
              "  'StartTime4',\n",
              "  'AvgDelayForDay',\n",
              "  'AvgWaitLastK1Customers',\n",
              "  'SumDelayInProgress',\n",
              "  'NumScheduledNextSlot',\n",
              "  'IsFirst'])"
            ]
          },
          "metadata": {},
          "execution_count": 46
        }
      ]
    },
    {
      "cell_type": "code",
      "source": [
        "for i in range(1, len(min_errors) + 1):\n",
        "    print(f\"{i}\\t{min_errors[i - 1]}\")"
      ],
      "metadata": {
        "colab": {
          "base_uri": "https://localhost:8080/"
        },
        "id": "8ryh_9z-Z3Be",
        "outputId": "f7d6d32d-e731-4449-91f1-7a68e8594c22"
      },
      "execution_count": null,
      "outputs": [
        {
          "output_type": "stream",
          "name": "stdout",
          "text": [
            "1\t31.227057699733514\n",
            "2\t30.137965863467567\n",
            "3\t28.696490632253404\n",
            "4\t28.246309585132344\n",
            "5\t28.147006842164537\n",
            "6\t24.989574734774788\n",
            "7\t24.65918640725134\n",
            "8\t24.329071006187295\n",
            "9\t24.071936786758204\n",
            "10\t23.846509492065334\n",
            "11\t23.69261939854711\n",
            "12\t23.627914296582187\n",
            "13\t23.57915967047997\n",
            "14\t23.548081793881497\n",
            "15\t23.520963512553436\n"
          ]
        }
      ]
    },
    {
      "cell_type": "code",
      "source": [
        "min_error = float('inf')\n",
        "best_features = None\n",
        "\n",
        "for i in range(len(X.columns)):\n",
        "    for j in range(i + 1, len(X.columns)):\n",
        "        for k in range(j + 1, len(X.columns)):\n",
        "            f1 = X.columns[i]\n",
        "            f2 = X.columns[j]\n",
        "            f3 = X.columns[k]\n",
        "            model = linear_model.LinearRegression()\n",
        "            model.fit(X[[f1, f2, f3]], Y)\n",
        "            e = abs(Y - model.predict(X[[f1, f2, f3]])).mean()\n",
        "\n",
        "            if e < min_error:\n",
        "                min_error = e\n",
        "                best_features = (f1, f2, f3)"
      ],
      "metadata": {
        "id": "CdpDvlwgLvOB"
      },
      "execution_count": null,
      "outputs": []
    },
    {
      "cell_type": "code",
      "source": [
        "min_error, best_features"
      ],
      "metadata": {
        "colab": {
          "base_uri": "https://localhost:8080/"
        },
        "id": "dVHGlCIeVSlF",
        "outputId": "3ba02d89-97d6-4183-ee29-130b889854fe"
      },
      "execution_count": null,
      "outputs": [
        {
          "output_type": "execute_result",
          "data": {
            "text/plain": [
              "(26.072745167091224,\n",
              " ('AheadCount', 'SumDelayWaitingByExamCode', 'NumCompletedToday'))"
            ]
          },
          "metadata": {},
          "execution_count": 58
        }
      ]
    },
    {
      "cell_type": "code",
      "source": [],
      "metadata": {
        "id": "VKr1cuZtc7yn"
      },
      "execution_count": null,
      "outputs": []
    }
  ]
}